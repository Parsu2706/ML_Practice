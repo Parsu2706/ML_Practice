{
 "cells": [
  {
   "cell_type": "code",
   "execution_count": 1,
   "id": "9d752a0e",
   "metadata": {
    "execution": {
     "iopub.execute_input": "2025-06-02T21:58:33.130841Z",
     "iopub.status.busy": "2025-06-02T21:58:33.130509Z",
     "iopub.status.idle": "2025-06-02T21:58:35.302508Z",
     "shell.execute_reply": "2025-06-02T21:58:35.301087Z"
    },
    "papermill": {
     "duration": 2.180497,
     "end_time": "2025-06-02T21:58:35.304529",
     "exception": false,
     "start_time": "2025-06-02T21:58:33.124032",
     "status": "completed"
    },
    "tags": []
   },
   "outputs": [],
   "source": [
    "import pandas as pd \n"
   ]
  },
  {
   "cell_type": "code",
   "execution_count": 2,
   "id": "c86cca92",
   "metadata": {
    "execution": {
     "iopub.execute_input": "2025-06-02T21:58:35.314247Z",
     "iopub.status.busy": "2025-06-02T21:58:35.313731Z",
     "iopub.status.idle": "2025-06-02T21:58:35.360000Z",
     "shell.execute_reply": "2025-06-02T21:58:35.359128Z"
    },
    "papermill": {
     "duration": 0.052921,
     "end_time": "2025-06-02T21:58:35.361783",
     "exception": false,
     "start_time": "2025-06-02T21:58:35.308862",
     "status": "completed"
    },
    "tags": []
   },
   "outputs": [],
   "source": [
    "df = pd.read_csv(\"/kaggle/input/sms-spam-collection-dataset/spam.csv\", encoding = 'latin1')"
   ]
  },
  {
   "cell_type": "code",
   "execution_count": 3,
   "id": "65dd3f47",
   "metadata": {
    "execution": {
     "iopub.execute_input": "2025-06-02T21:58:35.371951Z",
     "iopub.status.busy": "2025-06-02T21:58:35.371608Z",
     "iopub.status.idle": "2025-06-02T21:58:35.384140Z",
     "shell.execute_reply": "2025-06-02T21:58:35.382921Z"
    },
    "papermill": {
     "duration": 0.019604,
     "end_time": "2025-06-02T21:58:35.385898",
     "exception": false,
     "start_time": "2025-06-02T21:58:35.366294",
     "status": "completed"
    },
    "tags": []
   },
   "outputs": [],
   "source": [
    "df.rename(columns = {'v1' : \"label\" , 'v2':'message'} , inplace = True)"
   ]
  },
  {
   "cell_type": "code",
   "execution_count": 4,
   "id": "35ac73a7",
   "metadata": {
    "execution": {
     "iopub.execute_input": "2025-06-02T21:58:35.395122Z",
     "iopub.status.busy": "2025-06-02T21:58:35.394761Z",
     "iopub.status.idle": "2025-06-02T21:58:35.424507Z",
     "shell.execute_reply": "2025-06-02T21:58:35.422966Z"
    },
    "papermill": {
     "duration": 0.03655,
     "end_time": "2025-06-02T21:58:35.426361",
     "exception": false,
     "start_time": "2025-06-02T21:58:35.389811",
     "status": "completed"
    },
    "tags": []
   },
   "outputs": [
    {
     "name": "stdout",
     "output_type": "stream",
     "text": [
      "<class 'pandas.core.frame.DataFrame'>\n",
      "RangeIndex: 5572 entries, 0 to 5571\n",
      "Data columns (total 5 columns):\n",
      " #   Column      Non-Null Count  Dtype \n",
      "---  ------      --------------  ----- \n",
      " 0   label       5572 non-null   object\n",
      " 1   message     5572 non-null   object\n",
      " 2   Unnamed: 2  50 non-null     object\n",
      " 3   Unnamed: 3  12 non-null     object\n",
      " 4   Unnamed: 4  6 non-null      object\n",
      "dtypes: object(5)\n",
      "memory usage: 217.8+ KB\n"
     ]
    }
   ],
   "source": [
    "df.info()"
   ]
  },
  {
   "cell_type": "code",
   "execution_count": 5,
   "id": "264eebea",
   "metadata": {
    "execution": {
     "iopub.execute_input": "2025-06-02T21:58:35.435966Z",
     "iopub.status.busy": "2025-06-02T21:58:35.435637Z",
     "iopub.status.idle": "2025-06-02T21:58:35.443027Z",
     "shell.execute_reply": "2025-06-02T21:58:35.442050Z"
    },
    "papermill": {
     "duration": 0.014265,
     "end_time": "2025-06-02T21:58:35.444904",
     "exception": false,
     "start_time": "2025-06-02T21:58:35.430639",
     "status": "completed"
    },
    "tags": []
   },
   "outputs": [
    {
     "data": {
      "text/plain": [
       "Index(['label', 'message', 'Unnamed: 2', 'Unnamed: 3', 'Unnamed: 4'], dtype='object')"
      ]
     },
     "execution_count": 5,
     "metadata": {},
     "output_type": "execute_result"
    }
   ],
   "source": [
    "df.columns"
   ]
  },
  {
   "cell_type": "code",
   "execution_count": 6,
   "id": "a81ea12f",
   "metadata": {
    "execution": {
     "iopub.execute_input": "2025-06-02T21:58:35.454682Z",
     "iopub.status.busy": "2025-06-02T21:58:35.454274Z",
     "iopub.status.idle": "2025-06-02T21:58:35.462506Z",
     "shell.execute_reply": "2025-06-02T21:58:35.461419Z"
    },
    "papermill": {
     "duration": 0.015511,
     "end_time": "2025-06-02T21:58:35.464739",
     "exception": false,
     "start_time": "2025-06-02T21:58:35.449228",
     "status": "completed"
    },
    "tags": []
   },
   "outputs": [],
   "source": [
    "df.drop(columns  = ['Unnamed: 2', 'Unnamed: 3', 'Unnamed: 4'] , axis = 1 , inplace = True)"
   ]
  },
  {
   "cell_type": "code",
   "execution_count": 7,
   "id": "3fcd3d74",
   "metadata": {
    "execution": {
     "iopub.execute_input": "2025-06-02T21:58:35.475519Z",
     "iopub.status.busy": "2025-06-02T21:58:35.475129Z",
     "iopub.status.idle": "2025-06-02T21:58:35.495531Z",
     "shell.execute_reply": "2025-06-02T21:58:35.494376Z"
    },
    "papermill": {
     "duration": 0.028524,
     "end_time": "2025-06-02T21:58:35.497411",
     "exception": false,
     "start_time": "2025-06-02T21:58:35.468887",
     "status": "completed"
    },
    "tags": []
   },
   "outputs": [
    {
     "data": {
      "text/html": [
       "<div>\n",
       "<style scoped>\n",
       "    .dataframe tbody tr th:only-of-type {\n",
       "        vertical-align: middle;\n",
       "    }\n",
       "\n",
       "    .dataframe tbody tr th {\n",
       "        vertical-align: top;\n",
       "    }\n",
       "\n",
       "    .dataframe thead th {\n",
       "        text-align: right;\n",
       "    }\n",
       "</style>\n",
       "<table border=\"1\" class=\"dataframe\">\n",
       "  <thead>\n",
       "    <tr style=\"text-align: right;\">\n",
       "      <th></th>\n",
       "      <th>label</th>\n",
       "      <th>message</th>\n",
       "    </tr>\n",
       "  </thead>\n",
       "  <tbody>\n",
       "    <tr>\n",
       "      <th>0</th>\n",
       "      <td>ham</td>\n",
       "      <td>Go until jurong point, crazy.. Available only ...</td>\n",
       "    </tr>\n",
       "    <tr>\n",
       "      <th>1</th>\n",
       "      <td>ham</td>\n",
       "      <td>Ok lar... Joking wif u oni...</td>\n",
       "    </tr>\n",
       "    <tr>\n",
       "      <th>2</th>\n",
       "      <td>spam</td>\n",
       "      <td>Free entry in 2 a wkly comp to win FA Cup fina...</td>\n",
       "    </tr>\n",
       "    <tr>\n",
       "      <th>3</th>\n",
       "      <td>ham</td>\n",
       "      <td>U dun say so early hor... U c already then say...</td>\n",
       "    </tr>\n",
       "    <tr>\n",
       "      <th>4</th>\n",
       "      <td>ham</td>\n",
       "      <td>Nah I don't think he goes to usf, he lives aro...</td>\n",
       "    </tr>\n",
       "  </tbody>\n",
       "</table>\n",
       "</div>"
      ],
      "text/plain": [
       "  label                                            message\n",
       "0   ham  Go until jurong point, crazy.. Available only ...\n",
       "1   ham                      Ok lar... Joking wif u oni...\n",
       "2  spam  Free entry in 2 a wkly comp to win FA Cup fina...\n",
       "3   ham  U dun say so early hor... U c already then say...\n",
       "4   ham  Nah I don't think he goes to usf, he lives aro..."
      ]
     },
     "execution_count": 7,
     "metadata": {},
     "output_type": "execute_result"
    }
   ],
   "source": [
    "df.head()"
   ]
  },
  {
   "cell_type": "code",
   "execution_count": 8,
   "id": "badcc8fc",
   "metadata": {
    "execution": {
     "iopub.execute_input": "2025-06-02T21:58:35.508700Z",
     "iopub.status.busy": "2025-06-02T21:58:35.507698Z",
     "iopub.status.idle": "2025-06-02T21:58:38.378173Z",
     "shell.execute_reply": "2025-06-02T21:58:38.377206Z"
    },
    "papermill": {
     "duration": 2.877845,
     "end_time": "2025-06-02T21:58:38.380037",
     "exception": false,
     "start_time": "2025-06-02T21:58:35.502192",
     "status": "completed"
    },
    "tags": []
   },
   "outputs": [],
   "source": [
    "import nltk \n",
    "from nltk.corpus  import stopwords\n",
    "from nltk.stem.porter import PorterStemmer  \n",
    "import re\n",
    "stem = PorterStemmer()"
   ]
  },
  {
   "cell_type": "code",
   "execution_count": 9,
   "id": "21db48b8",
   "metadata": {
    "execution": {
     "iopub.execute_input": "2025-06-02T21:58:38.390230Z",
     "iopub.status.busy": "2025-06-02T21:58:38.389655Z",
     "iopub.status.idle": "2025-06-02T21:58:47.943553Z",
     "shell.execute_reply": "2025-06-02T21:58:47.942410Z"
    },
    "papermill": {
     "duration": 9.561115,
     "end_time": "2025-06-02T21:58:47.945550",
     "exception": false,
     "start_time": "2025-06-02T21:58:38.384435",
     "status": "completed"
    },
    "tags": []
   },
   "outputs": [],
   "source": [
    "corpus = []\n",
    "\n",
    "\n",
    "for i in range(0 , len(df)): \n",
    "    review  = re.sub('[^a-zA-Z]' , \" \" , df['message'][i])\n",
    "    review = review.lower()\n",
    "    review = review.split()\n",
    "    review = [stem.stem(word) for word in review if word not in stopwords.words('english')]\n",
    "    review = ' '.join(review)\n",
    "    corpus.append(review)"
   ]
  },
  {
   "cell_type": "code",
   "execution_count": 10,
   "id": "552b6b55",
   "metadata": {
    "execution": {
     "iopub.execute_input": "2025-06-02T21:58:47.956520Z",
     "iopub.status.busy": "2025-06-02T21:58:47.955783Z",
     "iopub.status.idle": "2025-06-02T21:58:47.959963Z",
     "shell.execute_reply": "2025-06-02T21:58:47.959235Z"
    },
    "papermill": {
     "duration": 0.010771,
     "end_time": "2025-06-02T21:58:47.961207",
     "exception": false,
     "start_time": "2025-06-02T21:58:47.950436",
     "status": "completed"
    },
    "tags": []
   },
   "outputs": [],
   "source": [
    "from sklearn.feature_extraction.text import TfidfVectorizer"
   ]
  },
  {
   "cell_type": "code",
   "execution_count": 11,
   "id": "c79f1c8f",
   "metadata": {
    "execution": {
     "iopub.execute_input": "2025-06-02T21:58:47.971081Z",
     "iopub.status.busy": "2025-06-02T21:58:47.970250Z",
     "iopub.status.idle": "2025-06-02T21:58:47.974756Z",
     "shell.execute_reply": "2025-06-02T21:58:47.973937Z"
    },
    "papermill": {
     "duration": 0.010983,
     "end_time": "2025-06-02T21:58:47.976295",
     "exception": false,
     "start_time": "2025-06-02T21:58:47.965312",
     "status": "completed"
    },
    "tags": []
   },
   "outputs": [],
   "source": [
    "vectors = TfidfVectorizer(max_features=5000 , ngram_range=(1, 2))"
   ]
  },
  {
   "cell_type": "code",
   "execution_count": 12,
   "id": "f3bc2364",
   "metadata": {
    "execution": {
     "iopub.execute_input": "2025-06-02T21:58:47.986179Z",
     "iopub.status.busy": "2025-06-02T21:58:47.985415Z",
     "iopub.status.idle": "2025-06-02T21:58:48.396073Z",
     "shell.execute_reply": "2025-06-02T21:58:48.395198Z"
    },
    "papermill": {
     "duration": 0.417672,
     "end_time": "2025-06-02T21:58:48.398051",
     "exception": false,
     "start_time": "2025-06-02T21:58:47.980379",
     "status": "completed"
    },
    "tags": []
   },
   "outputs": [],
   "source": [
    "X = vectors.fit_transform(corpus).toarray()"
   ]
  },
  {
   "cell_type": "code",
   "execution_count": 13,
   "id": "a1c13e70",
   "metadata": {
    "execution": {
     "iopub.execute_input": "2025-06-02T21:58:48.407285Z",
     "iopub.status.busy": "2025-06-02T21:58:48.406969Z",
     "iopub.status.idle": "2025-06-02T21:58:48.414387Z",
     "shell.execute_reply": "2025-06-02T21:58:48.413566Z"
    },
    "papermill": {
     "duration": 0.01391,
     "end_time": "2025-06-02T21:58:48.416071",
     "exception": false,
     "start_time": "2025-06-02T21:58:48.402161",
     "status": "completed"
    },
    "tags": []
   },
   "outputs": [],
   "source": [
    "y = pd.get_dummies(df['label'])"
   ]
  },
  {
   "cell_type": "code",
   "execution_count": 14,
   "id": "a0e0e6e8",
   "metadata": {
    "execution": {
     "iopub.execute_input": "2025-06-02T21:58:48.425424Z",
     "iopub.status.busy": "2025-06-02T21:58:48.425081Z",
     "iopub.status.idle": "2025-06-02T21:58:48.429651Z",
     "shell.execute_reply": "2025-06-02T21:58:48.428729Z"
    },
    "papermill": {
     "duration": 0.010993,
     "end_time": "2025-06-02T21:58:48.431147",
     "exception": false,
     "start_time": "2025-06-02T21:58:48.420154",
     "status": "completed"
    },
    "tags": []
   },
   "outputs": [],
   "source": [
    "y = y.iloc[: , 0]"
   ]
  },
  {
   "cell_type": "code",
   "execution_count": 15,
   "id": "59f88147",
   "metadata": {
    "execution": {
     "iopub.execute_input": "2025-06-02T21:58:48.441431Z",
     "iopub.status.busy": "2025-06-02T21:58:48.441049Z",
     "iopub.status.idle": "2025-06-02T21:58:48.588245Z",
     "shell.execute_reply": "2025-06-02T21:58:48.587397Z"
    },
    "papermill": {
     "duration": 0.153953,
     "end_time": "2025-06-02T21:58:48.589931",
     "exception": false,
     "start_time": "2025-06-02T21:58:48.435978",
     "status": "completed"
    },
    "tags": []
   },
   "outputs": [],
   "source": [
    "from sklearn.model_selection import train_test_split \n",
    "\n",
    "X_train , X_test , y_train , y_test = train_test_split(X , y , test_size=0.3 , random_state=42)"
   ]
  },
  {
   "cell_type": "code",
   "execution_count": 16,
   "id": "407ea0c0",
   "metadata": {
    "execution": {
     "iopub.execute_input": "2025-06-02T21:58:48.599273Z",
     "iopub.status.busy": "2025-06-02T21:58:48.598932Z",
     "iopub.status.idle": "2025-06-02T21:58:48.699966Z",
     "shell.execute_reply": "2025-06-02T21:58:48.699014Z"
    },
    "papermill": {
     "duration": 0.107356,
     "end_time": "2025-06-02T21:58:48.701393",
     "exception": false,
     "start_time": "2025-06-02T21:58:48.594037",
     "status": "completed"
    },
    "tags": []
   },
   "outputs": [
    {
     "data": {
      "text/html": [
       "<style>#sk-container-id-1 {color: black;background-color: white;}#sk-container-id-1 pre{padding: 0;}#sk-container-id-1 div.sk-toggleable {background-color: white;}#sk-container-id-1 label.sk-toggleable__label {cursor: pointer;display: block;width: 100%;margin-bottom: 0;padding: 0.3em;box-sizing: border-box;text-align: center;}#sk-container-id-1 label.sk-toggleable__label-arrow:before {content: \"▸\";float: left;margin-right: 0.25em;color: #696969;}#sk-container-id-1 label.sk-toggleable__label-arrow:hover:before {color: black;}#sk-container-id-1 div.sk-estimator:hover label.sk-toggleable__label-arrow:before {color: black;}#sk-container-id-1 div.sk-toggleable__content {max-height: 0;max-width: 0;overflow: hidden;text-align: left;background-color: #f0f8ff;}#sk-container-id-1 div.sk-toggleable__content pre {margin: 0.2em;color: black;border-radius: 0.25em;background-color: #f0f8ff;}#sk-container-id-1 input.sk-toggleable__control:checked~div.sk-toggleable__content {max-height: 200px;max-width: 100%;overflow: auto;}#sk-container-id-1 input.sk-toggleable__control:checked~label.sk-toggleable__label-arrow:before {content: \"▾\";}#sk-container-id-1 div.sk-estimator input.sk-toggleable__control:checked~label.sk-toggleable__label {background-color: #d4ebff;}#sk-container-id-1 div.sk-label input.sk-toggleable__control:checked~label.sk-toggleable__label {background-color: #d4ebff;}#sk-container-id-1 input.sk-hidden--visually {border: 0;clip: rect(1px 1px 1px 1px);clip: rect(1px, 1px, 1px, 1px);height: 1px;margin: -1px;overflow: hidden;padding: 0;position: absolute;width: 1px;}#sk-container-id-1 div.sk-estimator {font-family: monospace;background-color: #f0f8ff;border: 1px dotted black;border-radius: 0.25em;box-sizing: border-box;margin-bottom: 0.5em;}#sk-container-id-1 div.sk-estimator:hover {background-color: #d4ebff;}#sk-container-id-1 div.sk-parallel-item::after {content: \"\";width: 100%;border-bottom: 1px solid gray;flex-grow: 1;}#sk-container-id-1 div.sk-label:hover label.sk-toggleable__label {background-color: #d4ebff;}#sk-container-id-1 div.sk-serial::before {content: \"\";position: absolute;border-left: 1px solid gray;box-sizing: border-box;top: 0;bottom: 0;left: 50%;z-index: 0;}#sk-container-id-1 div.sk-serial {display: flex;flex-direction: column;align-items: center;background-color: white;padding-right: 0.2em;padding-left: 0.2em;position: relative;}#sk-container-id-1 div.sk-item {position: relative;z-index: 1;}#sk-container-id-1 div.sk-parallel {display: flex;align-items: stretch;justify-content: center;background-color: white;position: relative;}#sk-container-id-1 div.sk-item::before, #sk-container-id-1 div.sk-parallel-item::before {content: \"\";position: absolute;border-left: 1px solid gray;box-sizing: border-box;top: 0;bottom: 0;left: 50%;z-index: -1;}#sk-container-id-1 div.sk-parallel-item {display: flex;flex-direction: column;z-index: 1;position: relative;background-color: white;}#sk-container-id-1 div.sk-parallel-item:first-child::after {align-self: flex-end;width: 50%;}#sk-container-id-1 div.sk-parallel-item:last-child::after {align-self: flex-start;width: 50%;}#sk-container-id-1 div.sk-parallel-item:only-child::after {width: 0;}#sk-container-id-1 div.sk-dashed-wrapped {border: 1px dashed gray;margin: 0 0.4em 0.5em 0.4em;box-sizing: border-box;padding-bottom: 0.4em;background-color: white;}#sk-container-id-1 div.sk-label label {font-family: monospace;font-weight: bold;display: inline-block;line-height: 1.2em;}#sk-container-id-1 div.sk-label-container {text-align: center;}#sk-container-id-1 div.sk-container {/* jupyter's `normalize.less` sets `[hidden] { display: none; }` but bootstrap.min.css set `[hidden] { display: none !important; }` so we also need the `!important` here to be able to override the default hidden behavior on the sphinx rendered scikit-learn.org. See: https://github.com/scikit-learn/scikit-learn/issues/21755 */display: inline-block !important;position: relative;}#sk-container-id-1 div.sk-text-repr-fallback {display: none;}</style><div id=\"sk-container-id-1\" class=\"sk-top-container\"><div class=\"sk-text-repr-fallback\"><pre>MultinomialNB()</pre><b>In a Jupyter environment, please rerun this cell to show the HTML representation or trust the notebook. <br />On GitHub, the HTML representation is unable to render, please try loading this page with nbviewer.org.</b></div><div class=\"sk-container\" hidden><div class=\"sk-item\"><div class=\"sk-estimator sk-toggleable\"><input class=\"sk-toggleable__control sk-hidden--visually\" id=\"sk-estimator-id-1\" type=\"checkbox\" checked><label for=\"sk-estimator-id-1\" class=\"sk-toggleable__label sk-toggleable__label-arrow\">MultinomialNB</label><div class=\"sk-toggleable__content\"><pre>MultinomialNB()</pre></div></div></div></div></div>"
      ],
      "text/plain": [
       "MultinomialNB()"
      ]
     },
     "execution_count": 16,
     "metadata": {},
     "output_type": "execute_result"
    }
   ],
   "source": [
    "from sklearn.naive_bayes import MultinomialNB \n",
    "\n",
    "model = MultinomialNB()\n",
    "model.fit(X_train , y_train)"
   ]
  },
  {
   "cell_type": "code",
   "execution_count": 17,
   "id": "63b0d322",
   "metadata": {
    "execution": {
     "iopub.execute_input": "2025-06-02T21:58:48.711714Z",
     "iopub.status.busy": "2025-06-02T21:58:48.711311Z",
     "iopub.status.idle": "2025-06-02T21:58:48.731700Z",
     "shell.execute_reply": "2025-06-02T21:58:48.730435Z"
    },
    "papermill": {
     "duration": 0.027666,
     "end_time": "2025-06-02T21:58:48.733508",
     "exception": false,
     "start_time": "2025-06-02T21:58:48.705842",
     "status": "completed"
    },
    "tags": []
   },
   "outputs": [],
   "source": [
    "y_pred = model.predict(X_test)"
   ]
  },
  {
   "cell_type": "code",
   "execution_count": 18,
   "id": "31de781f",
   "metadata": {
    "execution": {
     "iopub.execute_input": "2025-06-02T21:58:48.745893Z",
     "iopub.status.busy": "2025-06-02T21:58:48.745208Z",
     "iopub.status.idle": "2025-06-02T21:58:48.752746Z",
     "shell.execute_reply": "2025-06-02T21:58:48.751765Z"
    },
    "papermill": {
     "duration": 0.015335,
     "end_time": "2025-06-02T21:58:48.754280",
     "exception": false,
     "start_time": "2025-06-02T21:58:48.738945",
     "status": "completed"
    },
    "tags": []
   },
   "outputs": [
    {
     "data": {
      "text/plain": [
       "0.9706937799043063"
      ]
     },
     "execution_count": 18,
     "metadata": {},
     "output_type": "execute_result"
    }
   ],
   "source": [
    "from sklearn.metrics import accuracy_score , classification_report\n",
    "\n",
    "\n",
    "accuracy_score(y_test , y_pred)"
   ]
  },
  {
   "cell_type": "code",
   "execution_count": 19,
   "id": "800f1232",
   "metadata": {
    "execution": {
     "iopub.execute_input": "2025-06-02T21:58:48.764791Z",
     "iopub.status.busy": "2025-06-02T21:58:48.763965Z",
     "iopub.status.idle": "2025-06-02T21:58:48.781287Z",
     "shell.execute_reply": "2025-06-02T21:58:48.780224Z"
    },
    "papermill": {
     "duration": 0.023924,
     "end_time": "2025-06-02T21:58:48.782734",
     "exception": false,
     "start_time": "2025-06-02T21:58:48.758810",
     "status": "completed"
    },
    "tags": []
   },
   "outputs": [
    {
     "name": "stdout",
     "output_type": "stream",
     "text": [
      "              precision    recall  f1-score   support\n",
      "\n",
      "       False       0.99      0.78      0.87       219\n",
      "        True       0.97      1.00      0.98      1453\n",
      "\n",
      "    accuracy                           0.97      1672\n",
      "   macro avg       0.98      0.89      0.93      1672\n",
      "weighted avg       0.97      0.97      0.97      1672\n",
      "\n"
     ]
    }
   ],
   "source": [
    "print(classification_report(y_test , y_pred))"
   ]
  },
  {
   "cell_type": "code",
   "execution_count": null,
   "id": "515ae72f",
   "metadata": {
    "papermill": {
     "duration": 0.004074,
     "end_time": "2025-06-02T21:58:48.791364",
     "exception": false,
     "start_time": "2025-06-02T21:58:48.787290",
     "status": "completed"
    },
    "tags": []
   },
   "outputs": [],
   "source": []
  },
  {
   "cell_type": "code",
   "execution_count": null,
   "id": "35f18f0d",
   "metadata": {
    "papermill": {
     "duration": 0.004147,
     "end_time": "2025-06-02T21:58:48.799850",
     "exception": false,
     "start_time": "2025-06-02T21:58:48.795703",
     "status": "completed"
    },
    "tags": []
   },
   "outputs": [],
   "source": []
  }
 ],
 "metadata": {
  "kaggle": {
   "accelerator": "none",
   "dataSources": [
    {
     "datasetId": 483,
     "sourceId": 982,
     "sourceType": "datasetVersion"
    }
   ],
   "dockerImageVersionId": 31040,
   "isGpuEnabled": false,
   "isInternetEnabled": false,
   "language": "python",
   "sourceType": "notebook"
  },
  "kernelspec": {
   "display_name": "Python 3",
   "language": "python",
   "name": "python3"
  },
  "language_info": {
   "codemirror_mode": {
    "name": "ipython",
    "version": 3
   },
   "file_extension": ".py",
   "mimetype": "text/x-python",
   "name": "python",
   "nbconvert_exporter": "python",
   "pygments_lexer": "ipython3",
   "version": "3.11.11"
  },
  "papermill": {
   "default_parameters": {},
   "duration": 21.936527,
   "end_time": "2025-06-02T21:58:49.626533",
   "environment_variables": {},
   "exception": null,
   "input_path": "__notebook__.ipynb",
   "output_path": "__notebook__.ipynb",
   "parameters": {},
   "start_time": "2025-06-02T21:58:27.690006",
   "version": "2.6.0"
  }
 },
 "nbformat": 4,
 "nbformat_minor": 5
}
